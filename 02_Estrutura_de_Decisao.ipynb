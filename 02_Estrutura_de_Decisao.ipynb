{
 "cells": [
  {
   "cell_type": "markdown",
   "metadata": {},
   "source": [
    "# Resolução - Exercícios em Python\n",
    "\n",
    "# Site oficial: [Python](https://wiki.python.org.br/EstruturaDeDecisao)\n",
    "\n",
    "Por: Lucas Falcão  \n",
    "[GitHub](https://github.com/Falkzera)"
   ]
  },
  {
   "cell_type": "code",
   "execution_count": 8,
   "metadata": {},
   "outputs": [
    {
     "name": "stdout",
     "output_type": "stream",
     "text": [
      "Digite apenas números.\n",
      "Digite apenas números.\n",
      "Digite apenas números.\n",
      "Digite apenas números.\n",
      "Digite apenas números.\n",
      "Digite apenas números.\n",
      "Digite apenas números.\n",
      "Digite apenas números.\n"
     ]
    }
   ],
   "source": [
    "# 1) Faça um Programa que peça dois números e imprima o maior deles.\n",
    "while True:\n",
    "    try:\n",
    "        number_1 = float(input('Digite o primeiro número: '))\n",
    "        number_2 = float(input('Digite o segundo número: '))\n",
    "        break\n",
    "    except:\n",
    "        print('Digite apenas números.')\n",
    "\n",
    "if number_1 < number_2:\n",
    "    print(number_2)\n",
    "elif number_1 > number_2:\n",
    "    print(number_1)\n",
    "else:\n",
    "    print('Os números são iguais.')"
   ]
  },
  {
   "cell_type": "code",
   "execution_count": 3,
   "metadata": {},
   "outputs": [
    {
     "name": "stdout",
     "output_type": "stream",
     "text": [
      "O número é positivo.\n"
     ]
    }
   ],
   "source": [
    "# 2) Faça um Programa que peça um valor e mostre na tela se o valor é positivo ou negativo.\n",
    "while True:\n",
    "    try:\n",
    "        number = input('Digite um número: ').strip()\n",
    "        number = float(number)\n",
    "        break\n",
    "    except:\n",
    "        print('Digite apenas números')\n",
    "\n",
    "if number < 0:\n",
    "    print('O número é negativo.')\n",
    "elif number > 0:\n",
    "    print('O número é positivo.')\n",
    "else:\n",
    "    print('O número é 0')"
   ]
  },
  {
   "cell_type": "code",
   "execution_count": 5,
   "metadata": {},
   "outputs": [
    {
     "name": "stdout",
     "output_type": "stream",
     "text": [
      "F - Feminino\n"
     ]
    }
   ],
   "source": [
    "# 3) Faça um Programa que verifique se uma letra digitada é \"F\" ou \"M\".\n",
    "#  Conforme a letra escrever: F - Feminino, M - Masculino, Sexo Inválido.\n",
    "\n",
    "while True:\n",
    "    sexo = input('Digite seu sexo: ').strip().lower()\n",
    "    if sexo.startswith('m'):\n",
    "        print('M - Masculino')\n",
    "        break\n",
    "    elif sexo.startswith('f'):\n",
    "        print('F - Feminino')\n",
    "        break\n",
    "    else:\n",
    "        print('Sexo inválido.')"
   ]
  },
  {
   "cell_type": "code",
   "execution_count": 6,
   "metadata": {},
   "outputs": [
    {
     "name": "stdout",
     "output_type": "stream",
     "text": [
      "Letra inválida.\n",
      "Letra inválida.\n",
      "É uma consoante.\n"
     ]
    }
   ],
   "source": [
    "# 4) Faça um Programa que verifique se uma letra digitada é vogal ou consoante.\n",
    "\n",
    "while True:\n",
    "    letra = input('Digite uma letra').strip().lower()\n",
    "    if letra.isalpha():\n",
    "        break\n",
    "    else:\n",
    "        print('Letra inválida.')    \n",
    "\n",
    "vogais = ('a', 'e', 'i', 'o', 'u')\n",
    "\n",
    "if len(letra) == 1:\n",
    "    if letra in vogais:\n",
    "        print('É uma vogal.')\n",
    "    else:\n",
    "        print('É uma consoante.')\n",
    "else:\n",
    "    print('Digite apenas uma letra')"
   ]
  },
  {
   "cell_type": "code",
   "execution_count": 11,
   "metadata": {},
   "outputs": [
    {
     "name": "stdout",
     "output_type": "stream",
     "text": [
      "Please input only numbers\n",
      "Unfortunately, your average was 2.0, and you didnt pass.\n"
     ]
    }
   ],
   "source": [
    "# 5) Faça um programa para a leitura de duas notas parciais de um aluno. \n",
    "# O programa deve calcular a média alcançada por aluno e apresentar:\n",
    "    # a) A mensagem \"Aprovado\", se a média alcançada for maior ou igual a sete;\n",
    "    # b) A mensagem \"Reprovado\", se a média for menor do que sete;\n",
    "    # c) A mensagem \"Aprovado com Distinção\", se a média for igual a dez.\n",
    "\n",
    "while True:\n",
    "    try: \n",
    "        note_1 = float(input('Write your first note: '))\n",
    "        note_2 = float(input('Wrtie your second note: '))\n",
    "        break\n",
    "    except:\n",
    "        print('Please input only numbers')\n",
    "\n",
    "median = (note_1 + note_2) / 2\n",
    "\n",
    "if median >= 7:\n",
    "    print(f'You directly passed to the median of {median}.')\n",
    "elif median <= 7:\n",
    "    print(f'Unfortunately, your average was {median}, and you didnt pass.')\n",
    "else:\n",
    "    print(f'Congratulations, your median is {median}')"
   ]
  },
  {
   "cell_type": "code",
   "execution_count": 22,
   "metadata": {},
   "outputs": [
    {
     "name": "stdout",
     "output_type": "stream",
     "text": [
      "Número 2 é maior.\n"
     ]
    }
   ],
   "source": [
    "# 6) Faça um Programa que leia três números e mostre o maior deles.\n",
    "\n",
    "while True:\n",
    "    try: \n",
    "        number_1 = float(input('Write frist number: '))\n",
    "        number_2 = float(input('Wrtie second number: '))\n",
    "        number_3 = float(input('Wtrie trhid number: '))\n",
    "        break\n",
    "    except:\n",
    "        print('Digite apenas números.')\n",
    "\n",
    "if number_1 > number_2:\n",
    "    if number_1 > number_3:\n",
    "        print('Número 1 é maior')\n",
    "elif number_2 > number_3:\n",
    "    print('Número 2 é maior.')\n",
    "else:\n",
    "    print('Numero 3 é maior')"
   ]
  },
  {
   "cell_type": "code",
   "execution_count": 29,
   "metadata": {},
   "outputs": [
    {
     "name": "stdout",
     "output_type": "stream",
     "text": [
      "O maior número é o 1.\n",
      "O menor número é o 3\n"
     ]
    }
   ],
   "source": [
    "# 7) Faça um Programa que leia três números e mostre o maior e o menor deles.\n",
    "\n",
    "number_1 = float(input('Digie o primeiro número: '))\n",
    "number_2 = float(input('Digie o segundo número: '))\n",
    "number_3 = float(input('Digie o terceiro número: '))\n",
    "\n",
    "if number_1 > number_2 and number_1 > number_3:\n",
    "    print('O maior número é o 1')\n",
    "    if number_2 > number_3:\n",
    "        print('O menor número é o 3')\n",
    "    else:\n",
    "        print('O menor número é o 2')\n",
    "\n",
    "elif number_2 > number_3:\n",
    "    print('Numero 2 é maior.')\n",
    "    if number_1 > number_3:\n",
    "        print('O menor número é o 3')\n",
    "    else:\n",
    "        print('O menor número é o 1')\n",
    "\n",
    "else:\n",
    "    print('Numero 3 é maior.')\n",
    "    if number_1 > number_2:\n",
    "        print('O menor número é o 2')\n",
    "    else:\n",
    "        print('O menor número é o 1')"
   ]
  },
  {
   "cell_type": "code",
   "execution_count": 1,
   "metadata": {},
   "outputs": [
    {
     "data": {
      "text/plain": [
       "3"
      ]
     },
     "execution_count": 1,
     "metadata": {},
     "output_type": "execute_result"
    }
   ],
   "source": [
    "# 8) Faça um programa que pergunte o preço de três produtos e informe qual produto você deve comprar, \n",
    "# sabendo que a decisão é sempre pelo mais barato.\n",
    "\n",
    "\n",
    "3\n",
    "\n",
    "\n",
    "\n",
    "\n"
   ]
  }
 ],
 "metadata": {
  "kernelspec": {
   "display_name": "Python 3",
   "language": "python",
   "name": "python3"
  },
  "language_info": {
   "codemirror_mode": {
    "name": "ipython",
    "version": 3
   },
   "file_extension": ".py",
   "mimetype": "text/x-python",
   "name": "python",
   "nbconvert_exporter": "python",
   "pygments_lexer": "ipython3",
   "version": "3.12.4"
  }
 },
 "nbformat": 4,
 "nbformat_minor": 2
}
