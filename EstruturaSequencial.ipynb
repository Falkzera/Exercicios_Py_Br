{
 "cells": [
  {
   "cell_type": "markdown",
   "metadata": {},
   "source": [
    "# Resolução - Exercícios em Python"
   ]
  },
  {
   "cell_type": "markdown",
   "metadata": {},
   "source": [
    "# Site oficial: [Python](https://wiki.python.org.br/EstruturaSequencial)"
   ]
  },
  {
   "cell_type": "code",
   "execution_count": 2,
   "metadata": {},
   "outputs": [
    {
     "name": "stdout",
     "output_type": "stream",
     "text": [
      "Alo mundo\n"
     ]
    }
   ],
   "source": [
    "# 1) Faça um Programa que mostre a mensagem \"Alo mundo\" na tela.\n",
    "print('Alo mundo')"
   ]
  },
  {
   "cell_type": "code",
   "execution_count": 2,
   "metadata": {},
   "outputs": [
    {
     "name": "stdout",
     "output_type": "stream",
     "text": [
      "O número informado foi 1\n"
     ]
    }
   ],
   "source": [
    "# 2) Faça um Programa que peça um número e então mostre a mensagem O número informado foi [número].\n",
    "while True:\n",
    "    try: \n",
    "        number = int(input('Digite um número: '))\n",
    "        print(f'O número informado foi {number}')\n",
    "        break\n",
    "    except:\n",
    "        print('Digite apenas números inteiros.')"
   ]
  },
  {
   "cell_type": "code",
   "execution_count": 3,
   "metadata": {},
   "outputs": [
    {
     "name": "stdout",
     "output_type": "stream",
     "text": [
      "1 + 2 = 3\n"
     ]
    }
   ],
   "source": [
    "# 3) Faça um Programa que peça dois números e imprima a soma.\n",
    "while True:\n",
    "    try: \n",
    "        number_1 = int(input('Digite o primeiro número: '))\n",
    "        number_2 = int(input('Digite dois números: '))\n",
    "        number_3 = number_1 + number_2\n",
    "        print(f'{number_1} + {number_2} = {number_3}')\n",
    "        break\n",
    "    \n",
    "    except:\n",
    "        print('Digite apenas númros inteiros')"
   ]
  },
  {
   "cell_type": "code",
   "execution_count": 1,
   "metadata": {},
   "outputs": [
    {
     "name": "stdout",
     "output_type": "stream",
     "text": [
      "digite um número\n",
      "digite um número\n",
      "10.0\n"
     ]
    }
   ],
   "source": [
    "# 4) Faça um Programa que peça as 4 notas bimestrais e mostre a média.\n",
    "while True:\n",
    "    try:\n",
    "        nota_1 = int(input('Digite sua primeira nota: '))\n",
    "        nota_2 = int(input('Digite sua segunda nota: '))\n",
    "        nota_3 = int(input('Digite sua terceira nota: '))\n",
    "        nota_4 = int(input('Digite sua quarta nota: '))\n",
    "        media = (nota_1 + nota_2 + nota_3 + nota_4) / 4\n",
    "        print(media)\n",
    "        break\n",
    "    except:\n",
    "        print('digite um número')"
   ]
  },
  {
   "cell_type": "code",
   "execution_count": 4,
   "metadata": {},
   "outputs": [
    {
     "name": "stdout",
     "output_type": "stream",
     "text": [
      "A metragem 10m em centímetros é 1000cm\n"
     ]
    }
   ],
   "source": [
    "# 5) Faça um Programa que converta metros para centímetros.\n",
    "while True:\n",
    "    try:\n",
    "        metros = int(input('Digite uma metragem: '))\n",
    "        centimentros = metros * 100\n",
    "        print(f'A metragem {metros}m em centímetros é {centimentros}cm')\n",
    "        break\n",
    "    except:\n",
    "        print('Digite apenas a metragem')"
   ]
  },
  {
   "cell_type": "code",
   "execution_count": 7,
   "metadata": {},
   "outputs": [
    {
     "name": "stdout",
     "output_type": "stream",
     "text": [
      "O raio circulo mede 10.5, portanto sua área total é: 346.3605900582747\n"
     ]
    }
   ],
   "source": [
    "# 6) Faça um Programa que peça o raio de um círculo, calcule e mostre sua área.\n",
    "import math\n",
    "\n",
    "while True:\n",
    "    try:\n",
    "        raio = float(input('Digite um raio de um circulo: '))\n",
    "        area = math.pi * (raio**2)\n",
    "        print(f'O raio circulo mede {raio}, portanto sua área total é: {area}')\n",
    "        break\n",
    "    except:\n",
    "        print('Digite apenas o valor da aréa do circulo')"
   ]
  },
  {
   "cell_type": "code",
   "execution_count": 11,
   "metadata": {},
   "outputs": [
    {
     "name": "stdout",
     "output_type": "stream",
     "text": [
      "O lado do quadrado mede 10.2, possuindo uma área de 104.04, portanto o dobro da sua área é 208.08\n"
     ]
    }
   ],
   "source": [
    "# 7) Faça um Programa que calcule a área de um quadrado, em seguida mostre o dobro desta área para o usuário.\n",
    "lado = float(input('Digite o tamanho do lado do quadrado: '))\n",
    "area = lado**2\n",
    "dobro_area = area*2\n",
    "print(f'O lado do quadrado mede {lado}, possuindo uma área de {area:.2f}, portanto o dobro da sua área é {dobro_area:.2f}')"
   ]
  },
  {
   "cell_type": "code",
   "execution_count": 13,
   "metadata": {},
   "outputs": [
    {
     "name": "stdout",
     "output_type": "stream",
     "text": [
      "Digite apenas números.\n"
     ]
    }
   ],
   "source": [
    "# 8) Faça um Programa que pergunte quanto você ganha por hora e o número de horas trabalhadas no mês. Calcule e mostre o total do seu salário no referido mês.\n",
    "while True:\n",
    "    try:\n",
    "        ganho_hora = float(input('Quanto você ganha por hora?: '))\n",
    "        horas_mes = float(input('Quantas horas você trabalha por mês?: '))\n",
    "        salario = ganho_hora * horas_mes\n",
    "        print(f'Você recebe no mês R${salario} ')\n",
    "        break\n",
    "    except:\n",
    "        print('Digite apenas números.')"
   ]
  },
  {
   "cell_type": "code",
   "execution_count": 4,
   "metadata": {},
   "outputs": [
    {
     "name": "stdout",
     "output_type": "stream",
     "text": [
      "10 representa -12.22 graus celcius.\n"
     ]
    }
   ],
   "source": [
    "# 9) Faça um Programa que peça a temperatura em graus Fahrenheit, transforme e mostre a temperatura em graus Celsius.\n",
    "# C = 5 * ((F-32) / 9).\n",
    "while True:\n",
    "    try:\n",
    "        fahrenheit = int(input('Digite quantos Fahrenheit está agora: '))\n",
    "        celcius = 5 * ((fahrenheit - 32) / 9 )\n",
    "        print(f'{fahrenheit} Fahrenheit representa {celcius:.2f} graus celcius.')\n",
    "        break\n",
    "    except:\n",
    "        print('Digite apenas a temperatura em Fahrenheit')"
   ]
  },
  {
   "cell_type": "code",
   "execution_count": 7,
   "metadata": {},
   "outputs": [
    {
     "name": "stdout",
     "output_type": "stream",
     "text": [
      "30 Celcius representa 86.00 graus celcius.\n"
     ]
    }
   ],
   "source": [
    "# 10) Faça um Programa que peça a temperatura em graus Celsius, transforme e mostre em graus Fahrenheit.\n",
    "# F = C * 1,8 + 32\n",
    "while True:\n",
    "    try:\n",
    "        celcius = int(input('Digite quantos Celcius está agora: '))\n",
    "        fahrenheit = celcius * 1.8 + 32\n",
    "        print(f'{celcius} Celcius representa {fahrenheit:.2f} graus Fahrenheit.')\n",
    "        break\n",
    "    except:\n",
    "        print('Digite apenas a temperatura em Celcius')"
   ]
  },
  {
   "cell_type": "code",
   "execution_count": 9,
   "metadata": {},
   "outputs": [
    {
     "name": "stdout",
     "output_type": "stream",
     "text": [
      "Letra: a) 2.0\n",
      "Letra: b) 5.0\n",
      "Letra: c) 8.0\n",
      "\n"
     ]
    }
   ],
   "source": [
    "# 11) Faça um Programa que peça 2 números inteiros e um número real. Calcule e mostre\n",
    "    # a) o produto do dobro do primeiro com metade do segundo\n",
    "    # b) a soma do triplo do primeiro com o terceiro.\n",
    "    # c) o terceiro elevado ao cubo.\n",
    "while True:\n",
    "\n",
    "    try:\n",
    "        inteiro_1 = int(input('Digite o primeiro número inteiro: '))\n",
    "        inteiro_2 = int(input('Digite o segundo número inteiro: '))\n",
    "        numero_real = float(input('Digite o segundo número inteiro: '))\n",
    "\n",
    "        letra_a = (inteiro_1*2) * (inteiro_2/2)\n",
    "        letra_b = (inteiro_1*3) + numero_real\n",
    "        letra_c = numero_real**3\n",
    "        print(f'Letra: a) {letra_a}\\n' f'Letra: b) {letra_b}\\n' f'Letra: c) {letra_c}\\n' )\n",
    "        break\n",
    "\n",
    "    except:\n",
    "        print('Digite apenas números inteiros para essa pergunta.')"
   ]
  },
  {
   "cell_type": "code",
   "execution_count": 18,
   "metadata": {},
   "outputs": [
    {
     "name": "stdout",
     "output_type": "stream",
     "text": [
      "Altura inválida\n",
      "Altura inválida\n",
      "Você é do sexo m, sua altura é 1.2 metros, portanto seu pedo ideal é 29.82\n"
     ]
    }
   ],
   "source": [
    "# 12 e 13) Tendo como dados de entrada a altura de uma pessoa, construa um algoritmo que calcule seu peso ideal, usando a seguinte fórmula: \n",
    "# (72.7*altura) - 58\n",
    "\n",
    "while True:\n",
    "    try: \n",
    "        altura = float(input('Digite sua altura em metros: '))\n",
    "        if altura < 2:\n",
    "            break\n",
    "        else:\n",
    "            print('Altura inválida')\n",
    "            continue\n",
    "    except:\n",
    "        print('Digite sua altura em metros')\n",
    "\n",
    "sexo = input('Você e Homem ou Mulher?: ').lower()\n",
    "while True:\n",
    "    if sexo.startswith('h'):\n",
    "        calculo = (72.7 * altura) - 58\n",
    "        break\n",
    "\n",
    "    elif sexo.startswith('m'):\n",
    "        calculo = (62.1 * altura) - 44.7\n",
    "        break\n",
    "    else:\n",
    "        print('Diga se você é Homem ou Mulher.')\n",
    "\n",
    "print(f'Você é do sexo {sexo}, sua altura é {altura} metros, portanto seu pedo ideal é {calculo:.2f}')"
   ]
  },
  {
   "cell_type": "code",
   "execution_count": 21,
   "metadata": {},
   "outputs": [
    {
     "name": "stdout",
     "output_type": "stream",
     "text": [
      "Digite o peso dos peixes: \n",
      "O exceso foi de 140.0kg\n",
      "Portando, a multa será de R$560.0\n"
     ]
    }
   ],
   "source": [
    "# 14) João Papo-de-Pescador, homem de bem, comprou um microcomputador para controlar o rendimento diário de seu trabalho. \n",
    "# Toda vez que ele traz um peso de peixes maior que o estabelecido pelo regulamento de pesca do estado de São Paulo (50 quilos) deve pagar uma multa de R$ 4,00 por quilo excedente.\n",
    "# João precisa que você faça um programa que leia a variável peso (peso de peixes) e calcule o excesso. \n",
    "# Gravar na variável excesso a quantidade de quilos além do limite e na variável multa o valor da multa que João deverá pagar. \n",
    "# Imprima os dados do programa com as mensagens adequadas.\n",
    "\n",
    "while True:\n",
    "    try:\n",
    "        peso = float(input('Qual o peso da pesca de agora?: '))\n",
    "        excesso = peso - 50\n",
    "        break\n",
    "    except:\n",
    "        print('Digite o peso dos peixes: ')\n",
    "\n",
    "if excesso > 1:\n",
    "    multa = excesso * 4\n",
    "    print(f'O exceso foi de {excesso}kg\\n' f'Portando, a multa será de R${multa}')\n",
    "else:\n",
    "    print('Não houve ecesso')"
   ]
  },
  {
   "cell_type": "code",
   "execution_count": 28,
   "metadata": {},
   "outputs": [
    {
     "name": "stdout",
     "output_type": "stream",
     "text": [
      "Seu salário bruto é de R$ 2400.0\n",
      "Seu desconto de imposto de renda é de: 264.0\n",
      "Seu desconto de INSS é de: 192.0\n",
      "Seu desconto do Sindicato é de: 120.0\n",
      "Seu salário liquido é de R$ 1824.0\n"
     ]
    }
   ],
   "source": [
    "# 15) Faça um Programa que pergunte quanto você ganha por hora e o número de horas trabalhadas no mês. \n",
    "# Calcule e mostre o total do seu salário no referido mês, sabendo-se que são descontados 11% para o Imposto de Renda, 8% para o INSS e 5% para o sindicato, \n",
    "# faça um programa que nos dê:\n",
    "    # a) salário bruto.\n",
    "    # b) quanto pagou ao INSS.\n",
    "    # c) quanto pagou ao sindicato\n",
    "    # d) o salário líquido.\n",
    "    # e) calcule os descontos e o salário líquido, conforme a tabela abaixo\n",
    "\n",
    "salario_hora = float(input('Quanto você ganha por hora: '))\n",
    "horas_mes = int(input('Quantas horas você trabalha por Mês: '))\n",
    "\n",
    "salario_bruto = salario_hora * horas_mes\n",
    "\n",
    "imposto_renda = salario_bruto * (11/100)\n",
    "inss = salario_bruto * (8/100)\n",
    "sindicato = salario_bruto * (5/100)\n",
    "descontos = imposto_renda + inss + sindicato\n",
    "salario_liquido = salario_bruto - descontos\n",
    "\n",
    "print(f'Seu salário bruto é de R$ {salario_bruto}')\n",
    "print(f'Seu desconto de imposto de renda é de: {imposto_renda}')\n",
    "print(f'Seu desconto de INSS é de: {inss}')\n",
    "print(f'Seu desconto do Sindicato é de: {sindicato}')\n",
    "print(f'Seu salário liquido é de R$ {salario_liquido}')"
   ]
  },
  {
   "cell_type": "code",
   "execution_count": 8,
   "metadata": {},
   "outputs": [
    {
     "name": "stdout",
     "output_type": "stream",
     "text": [
      "Será necessário 9.26 quantidade de latas e custo será de R$740.74\n"
     ]
    }
   ],
   "source": [
    "# 16) Faça um programa para uma loja de tintas. \n",
    "# O programa deverá pedir o tamanho em metros quadrados da área a ser pintada. \n",
    "# Considere que a cobertura da tinta é de 1 litro para cada 3 metros quadrados e que a tinta é vendida em latas de 18 litros, que custam R$ 80,00.\n",
    "# Informe ao usuário a quantidades de latas de tinta a serem compradas e o preço total. \n",
    "\n",
    "while True:\n",
    "    try:\n",
    "        tamanho_area = float(input('Qual o tamanho em m2 da área a ser pintada?: '))\n",
    "        break\n",
    "    except:\n",
    "        print('Digite apenas o tamanho da área^2')\n",
    "\n",
    "litros_tinta = tamanho_area / 3\n",
    "\n",
    "latas = 18 # 18 litros\n",
    "quantidade_latas = litros_tinta / latas\n",
    "custo = 80 # Reais \n",
    "custo_total = quantidade_latas * custo\n",
    "print(f'Será necessário {quantidade_latas:.2f} quantidade de latas e custo será de R${custo_total:.2f}')"
   ]
  },
  {
   "cell_type": "code",
   "execution_count": 14,
   "metadata": {},
   "outputs": [
    {
     "name": "stdout",
     "output_type": "stream",
     "text": [
      "Caso compre pelas latas, você precisará de: 9.491 latas e o custo total será R$ 759.26\n",
      "Caso compre pelas galões, você precisará de: 47.454 galões e o custo total será R$ 1186.34\n"
     ]
    }
   ],
   "source": [
    "# 17) Faça um Programa para uma loja de tintas. \n",
    "# O programa deverá pedir o tamanho em metros quadrados da área a ser pintada.\n",
    "# Considere que a cobertura da tinta é de 1 litro para cada 6 metros quadrados e que a tinta é vendida em latas de 18 litros, \n",
    "# que custam R$ 80,00 ou em galões de 3,6 litros, que custam R$ 25,00.\n",
    "    # Informe ao usuário as quantidades de tinta a serem compradas e os respectivos preços em 3 situações:\n",
    "    # a) comprar apenas latas de 18 litros;\n",
    "    # b) comprar apenas galões de 3,6 litros;\n",
    "    # c) misturar latas e galões, de forma que o desperdício de tinta seja menor. Acrescente 10% de folga e sempre arredonde os valores para cima, isto é, considere latas cheias.\n",
    "\n",
    "area_pintada = float(input('Digite a metragem da área a ser pintada: '))\n",
    "\n",
    "qtd_litros = area_pintada / 6\n",
    "\n",
    "latas = qtd_litros / 18\n",
    "preco_latas = latas * 80\n",
    "galoes = qtd_litros / 3.6\n",
    "preco_galoes = galoes * 25\n",
    "\n",
    "print(f'Caso compre pelas latas, você precisará de: {latas:.3f} latas e o custo total será R$ {preco_latas:.2f}')\n",
    "print(f'Caso compre pelas galões, você precisará de: {galoes:.3f} galões e o custo total será R$ {preco_galoes:.2f}')\n",
    "\n"
   ]
  },
  {
   "cell_type": "code",
   "execution_count": 22,
   "metadata": {},
   "outputs": [
    {
     "name": "stdout",
     "output_type": "stream",
     "text": [
      "Seu donwload irá demorar: 0.03 minutos.\n",
      "Seu donwload em segundos equivale há 1.80 segundos.\n"
     ]
    }
   ],
   "source": [
    "# 18) Faça um programa que peça o tamanho de um arquivo para download (em MB) e a velocidade de um link de Internet (em Mbps),\n",
    "#  calcule e informe o tempo aproximado de download do arquivo usando este link (em minutos).\n",
    "\n",
    "while True:\n",
    "    try:\n",
    "        tamanho_arquivo = float(input('Tamanho do arquivo; '))\n",
    "        velocidade_internet = int(input('Velocidade da internet'))\n",
    "        break\n",
    "    except:\n",
    "        print('Digite os dados corretamente.')\n",
    "\n",
    "calculo =  tamanho_arquivo  / velocidade_internet\n",
    "segundos = calculo\n",
    "minutos = segundos / 60\n",
    "\n",
    "print(f'Seu donwload irá demorar: {minutos:.2f} minutos.')\n",
    "print(f'Seu donwload em segundos equivale há {segundos:.2f} segundos.')"
   ]
  }
 ],
 "metadata": {
  "kernelspec": {
   "display_name": "Python 3",
   "language": "python",
   "name": "python3"
  },
  "language_info": {
   "codemirror_mode": {
    "name": "ipython",
    "version": 3
   },
   "file_extension": ".py",
   "mimetype": "text/x-python",
   "name": "python",
   "nbconvert_exporter": "python",
   "pygments_lexer": "ipython3",
   "version": "3.12.4"
  }
 },
 "nbformat": 4,
 "nbformat_minor": 2
}
